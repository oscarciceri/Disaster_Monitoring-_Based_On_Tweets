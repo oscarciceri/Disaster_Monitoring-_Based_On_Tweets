{
 "cells": [
  {
   "cell_type": "markdown",
   "id": "103aeeb3-e977-41ab-a8e1-5de700b40efb",
   "metadata": {},
   "source": [
    "# EDA by Oscar"
   ]
  },
  {
   "cell_type": "markdown",
   "id": "dd4cbdc5-9876-40cb-bbbe-b0137b2e042a",
   "metadata": {},
   "source": []
  }
 ],
 "metadata": {
  "kernelspec": {
   "display_name": "Python 3 (ipykernel)",
   "language": "python",
   "name": "python3"
  },
  "language_info": {
   "codemirror_mode": {
    "name": "ipython",
    "version": 3
   },
   "file_extension": ".py",
   "mimetype": "text/x-python",
   "name": "python",
   "nbconvert_exporter": "python",
   "pygments_lexer": "ipython3",
   "version": "3.10.1"
  }
 },
 "nbformat": 4,
 "nbformat_minor": 5
}
