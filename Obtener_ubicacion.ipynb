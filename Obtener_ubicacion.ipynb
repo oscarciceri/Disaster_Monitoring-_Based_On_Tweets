{
 "cells": [
  {
   "cell_type": "code",
   "execution_count": 34,
   "id": "09eccfa0",
   "metadata": {},
   "outputs": [],
   "source": [
    "## installation of necessary libraries\n",
    "import csv\n",
    "from getpass import getpass\n",
    "from time import sleep\n",
    "import pandas as pd\n",
    "from selenium.webdriver.common.keys import Keys\n",
    "from selenium.common.exceptions import NoSuchElementException\n",
    "from msedge.selenium_tools import Edge, EdgeOptions\n",
    "from webdriver_manager.chrome import ChromeDriverManager \n",
    "from selenium import webdriver\n",
    "from webdriver_manager.chrome import ChromeDriverManager\n",
    "from selenium.webdriver.support.wait import WebDriverWait\n",
    "from selenium.webdriver.support import expected_conditions as EC\n",
    "from selenium.webdriver.common.by import By\n",
    "\n",
    "import time\n",
    "import pandas as pd"
   ]
  },
  {
   "cell_type": "markdown",
   "id": "967f146c",
   "metadata": {},
   "source": [
    "#### IMPORT CSV FILE"
   ]
  },
  {
   "cell_type": "code",
   "execution_count": 35,
   "id": "fa93832d",
   "metadata": {},
   "outputs": [],
   "source": [
    "df = pd.read_csv('Data/train.csv', dtype={'id': int, 'keyword': object, 'location': object, 'text': object, 'target': int})\n"
   ]
  },
  {
   "cell_type": "markdown",
   "id": "69ade9bf",
   "metadata": {},
   "source": [
    "#### LOGIN WITH A TWITTER ACCOUNT CREATED TO DOWNLOAD DATES"
   ]
  },
  {
   "cell_type": "markdown",
   "id": "73e5362f",
   "metadata": {},
   "source": [
    "Next, by means of a Google Chrome controller, the link of the Twitter social network will be entered and by means of some identifiers of the source code, the user will be automatically logged in to enter the social network."
   ]
  },
  {
   "cell_type": "code",
   "execution_count": 36,
   "id": "53da4f23",
   "metadata": {
    "scrolled": true
   },
   "outputs": [
    {
     "name": "stderr",
     "output_type": "stream",
     "text": [
      "\n",
      "\n",
      "====== WebDriver manager ======\n",
      "Current google-chrome version is 103.0.5060\n",
      "Get LATEST chromedriver version for 103.0.5060 google-chrome\n",
      "Driver [C:\\Users\\antor\\.wdm\\drivers\\chromedriver\\win32\\103.0.5060.53\\chromedriver.exe] found in cache\n"
     ]
    }
   ],
   "source": [
    "driver = webdriver.Chrome(ChromeDriverManager().install())\n",
    "\n",
    "\n",
    "driver.get('https://twitter.com/i/flow/login')## dirigirse a la página Web\n",
    "\n",
    "username = WebDriverWait(driver, 10).until(EC.element_to_be_clickable((By.CSS_SELECTOR, \"input[name='text']\"))) ## Ubicar cuadro donde se envía el correo\n",
    "username.clear()\n",
    "username.send_keys(\"torresrojasangi\")\n",
    "time.sleep(5)\n",
    "siguiente=driver.find_element_by_xpath ('//span[contains(text(),\"Siguiente\")]') ## ubicar botón siquiente código de fuente\n",
    "siguiente.click()\n",
    "contraseña = WebDriverWait(driver, 10).until(EC.element_to_be_clickable((By.CSS_SELECTOR, \"input[name='password']\"))) ## Ubicar recuadro de contraseña código de fuente\n",
    "contraseña.clear()\n",
    "contraseña.send_keys(\"24demarzo1997AN*123\") \n",
    "time.sleep(5)\n",
    "iniciar=driver.find_element_by_xpath ('//span[contains(text(),\"Iniciar sesión\")]') ## Ubicar \n",
    "iniciar.click()"
   ]
  },
  {
   "cell_type": "markdown",
   "id": "0f42651e",
   "metadata": {},
   "source": [
    "#### There were special characters like '\\n' ,'\\t' '\\r' in some tweets that generated problems with the chromedriver inside the page for that reason these special characters were removed from the tweets.\n"
   ]
  },
  {
   "cell_type": "code",
   "execution_count": 37,
   "id": "5a17092f",
   "metadata": {},
   "outputs": [],
   "source": [
    "import re\n",
    "df['text'] = df['text'].str.replace('\\n',' ')\n",
    "df['text']= df['text'].str.replace('\\t',' ')\n",
    "df['text']=  df['text'].str.replace('\\r',' ')\n"
   ]
  },
  {
   "cell_type": "markdown",
   "id": "fcf9386a",
   "metadata": {},
   "source": [
    "#### FOR CYCLE FOR READING TWITS WITH WEB SCRAPING TOOLS"
   ]
  },
  {
   "cell_type": "code",
   "execution_count": null,
   "id": "75fb7b34",
   "metadata": {},
   "outputs": [],
   "source": [
    "time.sleep(5)\n",
    "driver.find_element_by_css_selector(\"a[aria-label='Buscar y explorar']\").click()\n",
    "time.sleep(5)\n",
    "buscar=driver.find_element_by_css_selector(\"input[role='combobox']\")\n",
    "buscar.send_keys(df['text'][0])\n",
    "buscar.send_keys(Keys.ENTER)\n",
    "df2=pd.DataFrame()\n",
    "for i in range(len(df)):\n",
    "    fechas= []\n",
    "    avanzada=driver.find_element_by_xpath ('//a[contains(@href,\"/search-advanced\")]')\n",
    "    avanzada.click()\n",
    "    time.sleep(1)\n",
    "    exacta = driver.find_element_by_css_selector('input[name=\"thisExactPhrase\"]')\n",
    "    exacta.send_keys(df['text'][i])\n",
    "    time.sleep(1)\n",
    "    exacta.send_keys(Keys.ENTER)\n",
    "    time.sleep(1)\n",
    "    fecha=driver.find_elements_by_css_selector(\"time[datetime]\")\n",
    "    for link in fecha:\n",
    "        name_fecha= link.text\n",
    "        fechas.append(\n",
    "            dict(\n",
    "                id_=df['id'][i],\n",
    "                text=df['text'][i],\n",
    "                fechita=name_fecha,\n",
    "                keyword=df['keyword'][i],\n",
    "                location=df['location'][i],\n",
    "                target=df['location'][i]\n",
    "            )\n",
    "        )\n",
    "    Salida=pd.DataFrame(fechas)\n",
    "    df2=df2.append(Salida)\n",
    "    time.sleep(1)\n",
    "    df2.to_csv(\"Data/train_fecha_8.csv\")\n",
    "\n",
    "#driver.find_element_by_xpath('//span[contains(@href,\"href\")]')\n",
    "\n"
   ]
  },
  {
   "cell_type": "markdown",
   "id": "50e61743",
   "metadata": {},
   "source": [
    "The respective source code will be identified to be able to enter the search engine, click and go through a for cycle of the twits column, automatically putting each twit one by one in the search engine to obtain the date of said twit and save it in a dictionary and later in a dataframe."
   ]
  }
 ],
 "metadata": {
  "kernelspec": {
   "display_name": "Python 3 (ipykernel)",
   "language": "python",
   "name": "python3"
  },
  "language_info": {
   "codemirror_mode": {
    "name": "ipython",
    "version": 3
   },
   "file_extension": ".py",
   "mimetype": "text/x-python",
   "name": "python",
   "nbconvert_exporter": "python",
   "pygments_lexer": "ipython3",
   "version": "3.9.7"
  }
 },
 "nbformat": 4,
 "nbformat_minor": 5
}
