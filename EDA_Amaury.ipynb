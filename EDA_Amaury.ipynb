{
 "cells": [
  {
   "cell_type": "markdown",
   "id": "9021c991-8454-420f-ae2a-494cf62edb30",
   "metadata": {},
   "source": [
    "Este código es de Amaury"
   ]
  }
 ],
 "metadata": {
  "kernelspec": {
   "display_name": "Python 3 (ipykernel)",
   "language": "python",
   "name": "python3"
  },
  "language_info": {
   "codemirror_mode": {
    "name": "ipython",
    "version": 3
   },
   "file_extension": ".py",
   "mimetype": "text/x-python",
   "name": "python",
   "nbconvert_exporter": "python",
   "pygments_lexer": "ipython3",
   "version": "3.9.12"
  }
 },
 "nbformat": 4,
 "nbformat_minor": 5
}
